{
 "cells": [
  {
   "cell_type": "code",
   "execution_count": 2,
   "metadata": {},
   "outputs": [
    {
     "name": "stdout",
     "output_type": "stream",
     "text": [
      "Collecting pandas-datareader\n",
      "  Downloading pandas_datareader-0.9.0-py3-none-any.whl (107 kB)\n",
      "Requirement already satisfied: pandas>=0.23 in c:\\users\\rahul\\anaconda3\\lib\\site-packages (from pandas-datareader) (1.0.1)\n",
      "Requirement already satisfied: requests>=2.19.0 in c:\\users\\rahul\\anaconda3\\lib\\site-packages (from pandas-datareader) (2.22.0)\n",
      "Requirement already satisfied: lxml in c:\\users\\rahul\\anaconda3\\lib\\site-packages (from pandas-datareader) (4.5.0)\n",
      "Requirement already satisfied: python-dateutil>=2.6.1 in c:\\users\\rahul\\anaconda3\\lib\\site-packages (from pandas>=0.23->pandas-datareader) (2.8.1)\n",
      "Requirement already satisfied: pytz>=2017.2 in c:\\users\\rahul\\anaconda3\\lib\\site-packages (from pandas>=0.23->pandas-datareader) (2019.3)\n",
      "Requirement already satisfied: numpy>=1.13.3 in c:\\users\\rahul\\anaconda3\\lib\\site-packages (from pandas>=0.23->pandas-datareader) (1.18.1)\n",
      "Requirement already satisfied: idna<2.9,>=2.5 in c:\\users\\rahul\\anaconda3\\lib\\site-packages (from requests>=2.19.0->pandas-datareader) (2.8)\n",
      "Requirement already satisfied: certifi>=2017.4.17 in c:\\users\\rahul\\anaconda3\\lib\\site-packages (from requests>=2.19.0->pandas-datareader) (2019.11.28)\n",
      "Requirement already satisfied: urllib3!=1.25.0,!=1.25.1,<1.26,>=1.21.1 in c:\\users\\rahul\\anaconda3\\lib\\site-packages (from requests>=2.19.0->pandas-datareader) (1.25.8)\n",
      "Requirement already satisfied: chardet<3.1.0,>=3.0.2 in c:\\users\\rahul\\anaconda3\\lib\\site-packages (from requests>=2.19.0->pandas-datareader) (3.0.4)\n",
      "Requirement already satisfied: six>=1.5 in c:\\users\\rahul\\anaconda3\\lib\\site-packages (from python-dateutil>=2.6.1->pandas>=0.23->pandas-datareader) (1.14.0)\n",
      "Installing collected packages: pandas-datareader\n",
      "Successfully installed pandas-datareader-0.9.0\n",
      "Note: you may need to restart the kernel to use updated packages.\n"
     ]
    }
   ],
   "source": [
    "pip install pandas-datareader"
   ]
  },
  {
   "cell_type": "code",
   "execution_count": null,
   "metadata": {},
   "outputs": [],
   "source": []
  },
  {
   "cell_type": "code",
   "execution_count": 3,
   "metadata": {},
   "outputs": [],
   "source": [
    "import pandas_datareader as pdr"
   ]
  },
  {
   "cell_type": "code",
   "execution_count": 13,
   "metadata": {},
   "outputs": [],
   "source": [
    "key ='d9a78603eb386202a5c832909f543d03996e9180'"
   ]
  },
  {
   "cell_type": "code",
   "execution_count": 14,
   "metadata": {},
   "outputs": [],
   "source": [
    "df = pdr.get_data_tiingo('AAPL',api_key=key)"
   ]
  },
  {
   "cell_type": "code",
   "execution_count": 15,
   "metadata": {},
   "outputs": [],
   "source": [
    "df.to_csv('AAPL.csv')"
   ]
  },
  {
   "cell_type": "code",
   "execution_count": 16,
   "metadata": {},
   "outputs": [],
   "source": [
    "import pandas as pd"
   ]
  },
  {
   "cell_type": "code",
   "execution_count": 17,
   "metadata": {},
   "outputs": [],
   "source": [
    "df = pd.read_csv('AAPL.csv')"
   ]
  },
  {
   "cell_type": "code",
   "execution_count": 19,
   "metadata": {},
   "outputs": [
    {
     "data": {
      "text/html": [
       "<div>\n",
       "<style scoped>\n",
       "    .dataframe tbody tr th:only-of-type {\n",
       "        vertical-align: middle;\n",
       "    }\n",
       "\n",
       "    .dataframe tbody tr th {\n",
       "        vertical-align: top;\n",
       "    }\n",
       "\n",
       "    .dataframe thead th {\n",
       "        text-align: right;\n",
       "    }\n",
       "</style>\n",
       "<table border=\"1\" class=\"dataframe\">\n",
       "  <thead>\n",
       "    <tr style=\"text-align: right;\">\n",
       "      <th></th>\n",
       "      <th>symbol</th>\n",
       "      <th>date</th>\n",
       "      <th>close</th>\n",
       "      <th>high</th>\n",
       "      <th>low</th>\n",
       "      <th>open</th>\n",
       "      <th>volume</th>\n",
       "      <th>adjClose</th>\n",
       "      <th>adjHigh</th>\n",
       "      <th>adjLow</th>\n",
       "      <th>adjOpen</th>\n",
       "      <th>adjVolume</th>\n",
       "      <th>divCash</th>\n",
       "      <th>splitFactor</th>\n",
       "    </tr>\n",
       "  </thead>\n",
       "  <tbody>\n",
       "    <tr>\n",
       "      <th>0</th>\n",
       "      <td>AAPL</td>\n",
       "      <td>2015-12-03 00:00:00+00:00</td>\n",
       "      <td>115.20</td>\n",
       "      <td>116.79</td>\n",
       "      <td>114.22</td>\n",
       "      <td>116.55</td>\n",
       "      <td>41569509</td>\n",
       "      <td>26.679005</td>\n",
       "      <td>27.047230</td>\n",
       "      <td>26.452048</td>\n",
       "      <td>26.991649</td>\n",
       "      <td>166278036</td>\n",
       "      <td>0.0</td>\n",
       "      <td>1.0</td>\n",
       "    </tr>\n",
       "    <tr>\n",
       "      <th>1</th>\n",
       "      <td>AAPL</td>\n",
       "      <td>2015-12-04 00:00:00+00:00</td>\n",
       "      <td>119.03</td>\n",
       "      <td>119.25</td>\n",
       "      <td>115.11</td>\n",
       "      <td>115.29</td>\n",
       "      <td>57776977</td>\n",
       "      <td>27.565989</td>\n",
       "      <td>27.616938</td>\n",
       "      <td>26.658162</td>\n",
       "      <td>26.699848</td>\n",
       "      <td>231107908</td>\n",
       "      <td>0.0</td>\n",
       "      <td>1.0</td>\n",
       "    </tr>\n",
       "    <tr>\n",
       "      <th>2</th>\n",
       "      <td>AAPL</td>\n",
       "      <td>2015-12-07 00:00:00+00:00</td>\n",
       "      <td>118.28</td>\n",
       "      <td>119.86</td>\n",
       "      <td>117.81</td>\n",
       "      <td>118.98</td>\n",
       "      <td>32084249</td>\n",
       "      <td>27.392297</td>\n",
       "      <td>27.758207</td>\n",
       "      <td>27.283451</td>\n",
       "      <td>27.554409</td>\n",
       "      <td>128336996</td>\n",
       "      <td>0.0</td>\n",
       "      <td>1.0</td>\n",
       "    </tr>\n",
       "    <tr>\n",
       "      <th>3</th>\n",
       "      <td>AAPL</td>\n",
       "      <td>2015-12-08 00:00:00+00:00</td>\n",
       "      <td>118.23</td>\n",
       "      <td>118.60</td>\n",
       "      <td>116.86</td>\n",
       "      <td>117.52</td>\n",
       "      <td>34309450</td>\n",
       "      <td>27.380718</td>\n",
       "      <td>27.466406</td>\n",
       "      <td>27.063442</td>\n",
       "      <td>27.216290</td>\n",
       "      <td>137237800</td>\n",
       "      <td>0.0</td>\n",
       "      <td>1.0</td>\n",
       "    </tr>\n",
       "    <tr>\n",
       "      <th>4</th>\n",
       "      <td>AAPL</td>\n",
       "      <td>2015-12-09 00:00:00+00:00</td>\n",
       "      <td>115.62</td>\n",
       "      <td>117.69</td>\n",
       "      <td>115.08</td>\n",
       "      <td>117.64</td>\n",
       "      <td>46361357</td>\n",
       "      <td>26.776272</td>\n",
       "      <td>27.255660</td>\n",
       "      <td>26.651214</td>\n",
       "      <td>27.244081</td>\n",
       "      <td>185445428</td>\n",
       "      <td>0.0</td>\n",
       "      <td>1.0</td>\n",
       "    </tr>\n",
       "  </tbody>\n",
       "</table>\n",
       "</div>"
      ],
      "text/plain": [
       "  symbol                       date   close    high     low    open    volume  \\\n",
       "0   AAPL  2015-12-03 00:00:00+00:00  115.20  116.79  114.22  116.55  41569509   \n",
       "1   AAPL  2015-12-04 00:00:00+00:00  119.03  119.25  115.11  115.29  57776977   \n",
       "2   AAPL  2015-12-07 00:00:00+00:00  118.28  119.86  117.81  118.98  32084249   \n",
       "3   AAPL  2015-12-08 00:00:00+00:00  118.23  118.60  116.86  117.52  34309450   \n",
       "4   AAPL  2015-12-09 00:00:00+00:00  115.62  117.69  115.08  117.64  46361357   \n",
       "\n",
       "    adjClose    adjHigh     adjLow    adjOpen  adjVolume  divCash  splitFactor  \n",
       "0  26.679005  27.047230  26.452048  26.991649  166278036      0.0          1.0  \n",
       "1  27.565989  27.616938  26.658162  26.699848  231107908      0.0          1.0  \n",
       "2  27.392297  27.758207  27.283451  27.554409  128336996      0.0          1.0  \n",
       "3  27.380718  27.466406  27.063442  27.216290  137237800      0.0          1.0  \n",
       "4  26.776272  27.255660  26.651214  27.244081  185445428      0.0          1.0  "
      ]
     },
     "execution_count": 19,
     "metadata": {},
     "output_type": "execute_result"
    }
   ],
   "source": [
    "df.head()"
   ]
  },
  {
   "cell_type": "code",
   "execution_count": 24,
   "metadata": {},
   "outputs": [
    {
     "data": {
      "text/html": [
       "<div>\n",
       "<style scoped>\n",
       "    .dataframe tbody tr th:only-of-type {\n",
       "        vertical-align: middle;\n",
       "    }\n",
       "\n",
       "    .dataframe tbody tr th {\n",
       "        vertical-align: top;\n",
       "    }\n",
       "\n",
       "    .dataframe thead th {\n",
       "        text-align: right;\n",
       "    }\n",
       "</style>\n",
       "<table border=\"1\" class=\"dataframe\">\n",
       "  <thead>\n",
       "    <tr style=\"text-align: right;\">\n",
       "      <th></th>\n",
       "      <th>symbol</th>\n",
       "      <th>date</th>\n",
       "      <th>close</th>\n",
       "      <th>high</th>\n",
       "      <th>low</th>\n",
       "      <th>open</th>\n",
       "      <th>volume</th>\n",
       "      <th>adjClose</th>\n",
       "      <th>adjHigh</th>\n",
       "      <th>adjLow</th>\n",
       "      <th>adjOpen</th>\n",
       "      <th>adjVolume</th>\n",
       "      <th>divCash</th>\n",
       "      <th>splitFactor</th>\n",
       "    </tr>\n",
       "  </thead>\n",
       "  <tbody>\n",
       "    <tr>\n",
       "      <th>1252</th>\n",
       "      <td>AAPL</td>\n",
       "      <td>2020-11-23 00:00:00+00:00</td>\n",
       "      <td>113.85</td>\n",
       "      <td>117.6202</td>\n",
       "      <td>113.75</td>\n",
       "      <td>117.18</td>\n",
       "      <td>127959318</td>\n",
       "      <td>113.85</td>\n",
       "      <td>117.6202</td>\n",
       "      <td>113.75</td>\n",
       "      <td>117.18</td>\n",
       "      <td>127959318</td>\n",
       "      <td>0.0</td>\n",
       "      <td>1.0</td>\n",
       "    </tr>\n",
       "    <tr>\n",
       "      <th>1253</th>\n",
       "      <td>AAPL</td>\n",
       "      <td>2020-11-24 00:00:00+00:00</td>\n",
       "      <td>115.17</td>\n",
       "      <td>115.8500</td>\n",
       "      <td>112.59</td>\n",
       "      <td>113.91</td>\n",
       "      <td>113226248</td>\n",
       "      <td>115.17</td>\n",
       "      <td>115.8500</td>\n",
       "      <td>112.59</td>\n",
       "      <td>113.91</td>\n",
       "      <td>113226248</td>\n",
       "      <td>0.0</td>\n",
       "      <td>1.0</td>\n",
       "    </tr>\n",
       "    <tr>\n",
       "      <th>1254</th>\n",
       "      <td>AAPL</td>\n",
       "      <td>2020-11-25 00:00:00+00:00</td>\n",
       "      <td>116.03</td>\n",
       "      <td>116.7500</td>\n",
       "      <td>115.17</td>\n",
       "      <td>115.55</td>\n",
       "      <td>76499234</td>\n",
       "      <td>116.03</td>\n",
       "      <td>116.7500</td>\n",
       "      <td>115.17</td>\n",
       "      <td>115.55</td>\n",
       "      <td>76499234</td>\n",
       "      <td>0.0</td>\n",
       "      <td>1.0</td>\n",
       "    </tr>\n",
       "    <tr>\n",
       "      <th>1255</th>\n",
       "      <td>AAPL</td>\n",
       "      <td>2020-11-27 00:00:00+00:00</td>\n",
       "      <td>116.59</td>\n",
       "      <td>117.4900</td>\n",
       "      <td>116.22</td>\n",
       "      <td>116.57</td>\n",
       "      <td>46691331</td>\n",
       "      <td>116.59</td>\n",
       "      <td>117.4900</td>\n",
       "      <td>116.22</td>\n",
       "      <td>116.57</td>\n",
       "      <td>46691331</td>\n",
       "      <td>0.0</td>\n",
       "      <td>1.0</td>\n",
       "    </tr>\n",
       "    <tr>\n",
       "      <th>1256</th>\n",
       "      <td>AAPL</td>\n",
       "      <td>2020-11-30 00:00:00+00:00</td>\n",
       "      <td>119.05</td>\n",
       "      <td>120.9700</td>\n",
       "      <td>116.81</td>\n",
       "      <td>116.97</td>\n",
       "      <td>169410176</td>\n",
       "      <td>119.05</td>\n",
       "      <td>120.9700</td>\n",
       "      <td>116.81</td>\n",
       "      <td>116.97</td>\n",
       "      <td>169410176</td>\n",
       "      <td>0.0</td>\n",
       "      <td>1.0</td>\n",
       "    </tr>\n",
       "  </tbody>\n",
       "</table>\n",
       "</div>"
      ],
      "text/plain": [
       "     symbol                       date   close      high     low    open  \\\n",
       "1252   AAPL  2020-11-23 00:00:00+00:00  113.85  117.6202  113.75  117.18   \n",
       "1253   AAPL  2020-11-24 00:00:00+00:00  115.17  115.8500  112.59  113.91   \n",
       "1254   AAPL  2020-11-25 00:00:00+00:00  116.03  116.7500  115.17  115.55   \n",
       "1255   AAPL  2020-11-27 00:00:00+00:00  116.59  117.4900  116.22  116.57   \n",
       "1256   AAPL  2020-11-30 00:00:00+00:00  119.05  120.9700  116.81  116.97   \n",
       "\n",
       "         volume  adjClose   adjHigh  adjLow  adjOpen  adjVolume  divCash  \\\n",
       "1252  127959318    113.85  117.6202  113.75   117.18  127959318      0.0   \n",
       "1253  113226248    115.17  115.8500  112.59   113.91  113226248      0.0   \n",
       "1254   76499234    116.03  116.7500  115.17   115.55   76499234      0.0   \n",
       "1255   46691331    116.59  117.4900  116.22   116.57   46691331      0.0   \n",
       "1256  169410176    119.05  120.9700  116.81   116.97  169410176      0.0   \n",
       "\n",
       "      splitFactor  \n",
       "1252          1.0  \n",
       "1253          1.0  \n",
       "1254          1.0  \n",
       "1255          1.0  \n",
       "1256          1.0  "
      ]
     },
     "execution_count": 24,
     "metadata": {},
     "output_type": "execute_result"
    }
   ],
   "source": [
    "df.tail()"
   ]
  },
  {
   "cell_type": "code",
   "execution_count": 20,
   "metadata": {},
   "outputs": [],
   "source": [
    "df1 = df.reset_index()['close']"
   ]
  },
  {
   "cell_type": "code",
   "execution_count": 22,
   "metadata": {},
   "outputs": [
    {
     "data": {
      "text/plain": [
       "0       115.20\n",
       "1       119.03\n",
       "2       118.28\n",
       "3       118.23\n",
       "4       115.62\n",
       "         ...  \n",
       "1252    113.85\n",
       "1253    115.17\n",
       "1254    116.03\n",
       "1255    116.59\n",
       "1256    119.05\n",
       "Name: close, Length: 1257, dtype: float64"
      ]
     },
     "execution_count": 22,
     "metadata": {},
     "output_type": "execute_result"
    }
   ],
   "source": [
    "df1"
   ]
  },
  {
   "cell_type": "code",
   "execution_count": 23,
   "metadata": {},
   "outputs": [
    {
     "data": {
      "text/plain": [
       "[<matplotlib.lines.Line2D at 0x14eb7f5b4c8>]"
      ]
     },
     "execution_count": 23,
     "metadata": {},
     "output_type": "execute_result"
    },
    {
     "data": {
      "image/png": "[encoded data removed]",
      "text/plain": [
       "<Figure size 432x288 with 1 Axes>"
      ]
     },
     "metadata": {
      "needs_background": "light"
     },
     "output_type": "display_data"
    }
   ],
   "source": [
    "import matplotlib.pyplot as plt\n",
    "plt.plot(df1)"
   ]
  },
  {
   "cell_type": "code",
   "execution_count": 25,
   "metadata": {},
   "outputs": [],
   "source": [
    "#LSTM are sensitive to the scale of the data\n"
   ]
  },
  {
   "cell_type": "code",
   "execution_count": 26,
   "metadata": {},
   "outputs": [],
   "source": [
    "import numpy as np"
   ]
  },
  {
   "cell_type": "code",
   "execution_count": 28,
   "metadata": {},
   "outputs": [],
   "source": [
    "from sklearn.preprocessing import MinMaxScaler\n",
    "scaler = MinMaxScaler(feature_range=(0,1))\n",
    "df1 = scaler.fit_transform(np.array(df1).reshape(-1,1))\n"
   ]
  },
  {
   "cell_type": "code",
   "execution_count": 32,
   "metadata": {},
   "outputs": [
    {
     "data": {
      "text/plain": [
       "array([[0.05979555],\n",
       "       [0.06900782],\n",
       "       [0.06720385],\n",
       "       ...,\n",
       "       [0.06179194],\n",
       "       [0.06313891],\n",
       "       [0.06905592]])"
      ]
     },
     "execution_count": 32,
     "metadata": {},
     "output_type": "execute_result"
    }
   ],
   "source": [
    "df1"
   ]
  },
  {
   "cell_type": "code",
   "execution_count": 33,
   "metadata": {},
   "outputs": [
    {
     "data": {
      "text/plain": [
       "(1257, 1)"
      ]
     },
     "execution_count": 33,
     "metadata": {},
     "output_type": "execute_result"
    }
   ],
   "source": [
    "df1.shape"
   ]
  },
  {
   "cell_type": "code",
   "execution_count": 38,
   "metadata": {},
   "outputs": [],
   "source": [
    "# Splitting the data set into training and testing\n",
    "training_size = int(len(df1)*0.65)\n",
    "test_size = len(df1)-training_size\n",
    "train_data,test_data = df1[0:training_size,:],df1[training_size:len(df1),:1]"
   ]
  },
  {
   "cell_type": "code",
   "execution_count": 39,
   "metadata": {},
   "outputs": [
    {
     "data": {
      "text/plain": [
       "(817, 440)"
      ]
     },
     "execution_count": 39,
     "metadata": {},
     "output_type": "execute_result"
    }
   ],
   "source": [
    "training_size,test_size"
   ]
  },
  {
   "cell_type": "code",
   "execution_count": 40,
   "metadata": {},
   "outputs": [
    {
     "data": {
      "text/plain": [
       "(817, 440)"
      ]
     },
     "execution_count": 40,
     "metadata": {},
     "output_type": "execute_result"
    }
   ],
   "source": [
    "len(train_data),len(test_data)"
   ]
  },
  {
   "cell_type": "code",
   "execution_count": 45,
   "metadata": {},
   "outputs": [],
   "source": [
    "import numpy\n",
    "# Converting array of values into datasets\n",
    "def create_dataset(dataset,time_step=1):\n",
    "    dataX,dataY = [],[]\n",
    "    for i in range(len(dataset)-time_step-1):\n",
    "        a = dataset[i:(i+time_step),0] ## i = 0,1,2,3,4\n",
    "        dataX.append(a)\n",
    "        dataY.append(dataset[i + time_step,0])\n",
    "    return numpy.array(dataX),numpy.array(dataY)\n"
   ]
  },
  {
   "cell_type": "code",
   "execution_count": 46,
   "metadata": {},
   "outputs": [],
   "source": [
    "# Reshape into x=t,t+1,t+2,t+3 and y = t+3\n",
    "time_step = 100\n",
    "X_train,y_train = create_dataset(train_data,time_step)\n",
    "X_test,y_test = create_dataset(test_data,time_step)"
   ]
  },
  {
   "cell_type": "code",
   "execution_count": 47,
   "metadata": {},
   "outputs": [
    {
     "name": "stdout",
     "output_type": "stream",
     "text": [
      "[[0.05979555 0.06900782 0.06720385 ... 0.035454   0.03369814 0.01799158]\n",
      " [0.06900782 0.06720385 0.06708358 ... 0.03369814 0.01799158 0.01079976]\n",
      " [0.06720385 0.06708358 0.06080577 ... 0.01799158 0.01079976 0.00817799]\n",
      " ...\n",
      " [0.34090198 0.33108839 0.32218882 ... 0.20177992 0.20202044 0.2033193 ]\n",
      " [0.33108839 0.32218882 0.32093806 ... 0.20202044 0.2033193  0.1991822 ]\n",
      " [0.32218882 0.32093806 0.32839447 ... 0.2033193  0.1991822  0.20355983]]\n"
     ]
    }
   ],
   "source": [
    "print(X_train)"
   ]
  },
  {
   "cell_type": "code",
   "execution_count": null,
   "metadata": {},
   "outputs": [],
   "source": []
  }
 ],
 "metadata": {
  "kernelspec": {
   "display_name": "Python 3",
   "language": "python",
   "name": "python3"
  },
  "language_info": {
   "codemirror_mode": {
    "name": "ipython",
    "version": 3
   },
   "file_extension": ".py",
   "mimetype": "text/x-python",
   "name": "python",
   "nbconvert_exporter": "python",
   "pygments_lexer": "ipython3",
   "version": "3.7.6"
  }
 },
 "nbformat": 4,
 "nbformat_minor": 4
}
